{
 "cells": [
  {
   "cell_type": "code",
   "execution_count": 2,
   "id": "9766d737",
   "metadata": {},
   "outputs": [
    {
     "name": "stdout",
     "output_type": "stream",
     "text": [
      "i'm reddy\n",
      "i'm 19 years old\n",
      "yes\n",
      "i am a bot not robot\n"
     ]
    }
   ],
   "source": [
    "class bot:\n",
    "    def __init__(self,name,age,sitting):\n",
    "        self.name = name\n",
    "        self.age = age\n",
    "        self.sitting = sitting\n",
    "    def  what_is_your_name(self):\n",
    "        print(\"i'm reddy\");\n",
    "    def crack_a_joke(self):\n",
    "        print(\"i am a bot not robot\");\n",
    "    def what_is_your_age(self):\n",
    "        print(\"i'm 19 years old\");\n",
    "    def are_you_machine(self):\n",
    "        print(\"yes\")\n",
    "bot = bot(\"rupareddy\",\"19years\",True)\n",
    "bot.what_is_your_name()\n",
    "bot.what_is_your_age()\n",
    "bot.are_you_machine()\n",
    "bot.crack_a_joke()\n",
    "        \n",
    "        "
   ]
  },
  {
   "cell_type": "code",
   "execution_count": null,
   "id": "93c7eb69",
   "metadata": {},
   "outputs": [],
   "source": []
  }
 ],
 "metadata": {
  "kernelspec": {
   "display_name": "Python 3 (ipykernel)",
   "language": "python",
   "name": "python3"
  },
  "language_info": {
   "codemirror_mode": {
    "name": "ipython",
    "version": 3
   },
   "file_extension": ".py",
   "mimetype": "text/x-python",
   "name": "python",
   "nbconvert_exporter": "python",
   "pygments_lexer": "ipython3",
   "version": "3.9.12"
  }
 },
 "nbformat": 4,
 "nbformat_minor": 5
}
